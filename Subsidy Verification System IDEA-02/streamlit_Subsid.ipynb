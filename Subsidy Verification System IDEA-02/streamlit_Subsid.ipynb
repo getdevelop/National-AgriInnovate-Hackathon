{
  "cells": [
    {
      "cell_type": "code",
      "source": [
        "# !pip install pillow\n",
        "# !pip install streamlit\n",
        "# !pip install pyngrok\n",
        "\n",
        "# !pip install streamlit -q\n",
        "# !pip install spacy\n",
        "# !pip install geopy\n",
        "# !pip install pillow\n",
        "\n"
      ],
      "metadata": {
        "colab": {
          "base_uri": "https://localhost:8080/"
        },
        "id": "hK7zyt5TipBj",
        "outputId": "1b155749-7b51-4e8d-be66-426ce82f10f0",
        "collapsed": true
      },
      "execution_count": null,
      "outputs": [
        {
          "output_type": "stream",
          "name": "stdout",
          "text": [
            "Requirement already satisfied: pillow in /usr/local/lib/python3.10/dist-packages (9.4.0)\n"
          ]
        }
      ]
    },
    {
      "cell_type": "markdown",
      "source": [
        "\n",
        "###to run the model and get the similarity check these 2 are important\n"
      ],
      "metadata": {
        "id": "Dww6Y2TLqUos"
      }
    },
    {
      "cell_type": "code",
      "source": [
        "# !pip install flash_attn timm\n",
        "# !python3 -m spacy download en_core_web_lg"
      ],
      "metadata": {
        "id": "-vkgCpmBqjuo"
      },
      "execution_count": null,
      "outputs": []
    },
    {
      "cell_type": "markdown",
      "source": [
        "###Writes the app.py and Streamlit is itegrated"
      ],
      "metadata": {
        "id": "ZmmXNx9Lm7WS"
      }
    },
    {
      "cell_type": "code",
      "execution_count": null,
      "metadata": {
        "colab": {
          "base_uri": "https://localhost:8080/"
        },
        "id": "f6nEic0GDSEM",
        "outputId": "dfeb9184-e536-43da-a6b6-517ae420016f"
      },
      "outputs": [
        {
          "output_type": "stream",
          "name": "stdout",
          "text": [
            "Writing app.py\n"
          ]
        }
      ],
      "source": [
        "%%writefile app.py\n",
        "import streamlit as st\n",
        "import torch\n",
        "from transformers import AutoModelForCausalLM, AutoProcessor\n",
        "import spacy\n",
        "from geopy.geocoders import Nominatim\n",
        "from PIL import Image\n",
        "import json\n",
        "\n",
        "\n",
        "nlp = spacy.load(\"en_core_web_lg\")\n",
        "\n",
        "\n",
        "model_id = 'microsoft/Florence-2-large'\n",
        "model = AutoModelForCausalLM.from_pretrained(model_id, trust_remote_code=True, torch_dtype='auto').eval().cuda()\n",
        "processor = AutoProcessor.from_pretrained(model_id, trust_remote_code=True)\n",
        "\n",
        "def run_example(task_prompt, image, text_input=None):\n",
        "    if text_input is None:\n",
        "        prompt = task_prompt\n",
        "    else:\n",
        "        prompt = task_prompt + text_input\n",
        "    inputs = processor(text=prompt, images=image, return_tensors=\"pt\").to('cuda', torch.float16)\n",
        "    generated_ids = model.generate(\n",
        "        input_ids=inputs[\"input_ids\"].cuda(),\n",
        "        pixel_values=inputs[\"pixel_values\"].cuda(),\n",
        "        max_new_tokens=1024,\n",
        "        early_stopping=False,\n",
        "        do_sample=False,\n",
        "        num_beams=3,\n",
        "    )\n",
        "    generated_text = processor.batch_decode(generated_ids, skip_special_tokens=False)[0]\n",
        "    parsed_answer = processor.post_process_generation(\n",
        "        generated_text,\n",
        "        task=task_prompt,\n",
        "        image_size=(image.width, image.height)\n",
        "    )\n",
        "    return parsed_answer\n",
        "\n",
        "def compare_text_similarity(text1, text2):\n",
        "    s1 = nlp(text1)\n",
        "    s2 = nlp(text2)\n",
        "    similarity = s1.similarity(s2)\n",
        "    if similarity >= 0.98:\n",
        "        return \"Both images are similar\", similarity\n",
        "    else:\n",
        "        return \"Images are not similar\", similarity\n",
        "\n",
        "\n",
        "st.title(\"Subsidy Verification System\")\n",
        "\n",
        "role = st.selectbox(\"Are you an admin or farmer?\", (\"Admin\", \"Farmer\"))\n",
        "\n",
        "if role == \"Admin\":\n",
        "    st.header(\"Admin Section\")\n",
        "    admin_id = st.text_input(\"Enter Admin ID\")\n",
        "    subsidy_id = st.text_input(\"Enter Subsidy ID\")\n",
        "    farmer_id = st.text_input(\"Enter Farmer ID\")\n",
        "    uploaded_image = st.file_uploader(\"Upload an image\", type=[\"jpg\", \"jpeg\", \"png\"])\n",
        "\n",
        "    if st.button(\"Process Image\"):\n",
        "        if uploaded_image:\n",
        "            image = Image.open(uploaded_image)\n",
        "            image = processor(images=image).pixel_values\n",
        "            caption = run_example('<DETAILED_CAPTION>', image)\n",
        "            st.write(\"Generated Caption:\", caption)\n",
        "            st.success(\"Image has been successfully processed and caption generated.\")\n",
        "\n",
        "\n",
        "            # Temporary storag\n",
        "            # you cna connect to database later\n",
        "            data = {\n",
        "                \"admin_id\": admin_id,\n",
        "                \"subsidy_id\": subsidy_id,\n",
        "                \"farmer_id\": farmer_id,\n",
        "                \"caption\": caption\n",
        "            }\n",
        "\n",
        "\n",
        "            with open('admin_data.json', 'w') as f:\n",
        "                json.dump(data, f)\n",
        "\n",
        "            st.write(\"Data temporarily stored in 'admin_data.json'. You can later move this to a database.\")\n",
        "\n",
        "elif role == \"Farmer\":\n",
        "    st.header(\"Farmer Section\")\n",
        "    farmer_id = st.text_input(\"Enter Farmer ID\")\n",
        "    subsidy_id = st.text_input(\"Enter Subsidy ID\")\n",
        "    uploaded_image = st.file_uploader(\"Upload an image\", type=[\"jpg\", \"jpeg\", \"png\"])\n",
        "\n",
        "    if st.button(\"Verify and Process\"):\n",
        "        if not farmer_id:\n",
        "            st.error(\"Please enter your Farmer ID.\")\n",
        "        elif not subsidy_id:\n",
        "            st.error(\"Please enter the Subsidy ID.\")\n",
        "        elif not uploaded_image:\n",
        "            st.error(\"Please upload an image.\")\n",
        "        else:\n",
        "            try:\n",
        "                with open('admin_data.json', 'r') as f:\n",
        "                    admin_data = json.load(f)\n",
        "\n",
        "                admin_caption = admin_data['caption'] if admin_data['subsidy_id'] == subsidy_id else None\n",
        "\n",
        "                if admin_caption:\n",
        "                    image = Image.open(uploaded_image)\n",
        "                    image = processor(images=image).pixel_values\n",
        "                    farmer_caption = run_example('<DETAILED_CAPTION>', image)\n",
        "                    st.write(\"Admin Image Text:\", admin_caption)\n",
        "                    st.write(\"Farmer Image Text:\", farmer_caption)\n",
        "                    result, similarity_score = compare_text_similarity(admin_caption, farmer_caption)\n",
        "                    st.write(result)\n",
        "                    st.write(\"Similarity Score:\", similarity_score)\n",
        "\n",
        "                    if similarity_score >= 0.98:\n",
        "                        st.success(\"Image accepted\")\n",
        "                    else:\n",
        "                        st.error(\"Please upload a new image\")\n",
        "                else:\n",
        "                    st.error(\"No matching subsidy found for the provided ID.\")\n",
        "\n",
        "            except FileNotFoundError:\n",
        "                st.error(\"Admin data not found. Please process an image as an admin first.\")\n"
      ]
    },
    {
      "cell_type": "code",
      "execution_count": null,
      "metadata": {
        "id": "lZFoIOzZDTou"
      },
      "outputs": [],
      "source": [
        "# # Optional: Commented code for location fetching using geopy\n",
        "# \"\"\"\n",
        "# geolocator = Nominatim(user_agent=\"geoapiExercises\")\n",
        "\n",
        "# def fetch_location():\n",
        "#     loc = geolocator.geocode(\"Your location query here\")\n",
        "#     st.write(\"Farmer Location:\", loc.address)\n",
        "#     return loc.latitude, loc.longitude\n",
        "\n",
        "# if st.checkbox(\"Fetch Location\"):\n",
        "#     if st.button(\"Get Location\"):\n",
        "#         latitude, longitude = fetch_location()\n",
        "#         st.write(\"Latitude:\", latitude, \"Longitude:\", longitude)\n",
        "# \"\"\"\n"
      ]
    },
    {
      "cell_type": "markdown",
      "source": [
        "###to run the web interface must have account in ngrok"
      ],
      "metadata": {
        "id": "5vUnUhK6p_VQ"
      }
    },
    {
      "cell_type": "code",
      "execution_count": null,
      "metadata": {
        "colab": {
          "base_uri": "https://localhost:8080/"
        },
        "id": "dR6AU6lBDYi8",
        "outputId": "6e3c6bde-a075-4f1d-b59b-ff1cd6550044"
      },
      "outputs": [
        {
          "output_type": "stream",
          "name": "stdout",
          "text": [
            "Authtoken saved to configuration file: /root/.config/ngrok/ngrok.yml\n",
            "1174\n"
          ]
        }
      ],
      "source": [
        "\n",
        "\n",
        "ngrok.set_auth_token(\"<authtoken>\")\n",
        "!ngrok config add-authtoken <authtoken>\n",
        "!streamlit run app.py&>/dev/null&\n",
        "!pgrep streamlit"
      ]
    },
    {
      "cell_type": "code",
      "execution_count": null,
      "metadata": {
        "id": "cPylqxt3DitV",
        "colab": {
          "base_uri": "https://localhost:8080/"
        },
        "outputId": "57b87ebb-a2e0-413b-e0cc-5104c7a6e594"
      },
      "outputs": [
        {
          "output_type": "stream",
          "name": "stdout",
          "text": [
            "Public URL: https://6f39-34-87-17-253.ngrok-free.app\n"
          ]
        }
      ],
      "source": [
        "from pyngrok import ngrok\n",
        "# Create a tunnel on port 5000\n",
        "http_tunnel = ngrok.connect(8501,'http')\n",
        "print(\"Public URL:\", http_tunnel.public_url)\n"
      ]
    }
  ],
  "metadata": {
    "accelerator": "GPU",
    "colab": {
      "gpuType": "T4",
      "provenance": []
    },
    "kernelspec": {
      "display_name": "Python 3",
      "name": "python3"
    },
    "language_info": {
      "name": "python"
    }
  },
  "nbformat": 4,
  "nbformat_minor": 0
}