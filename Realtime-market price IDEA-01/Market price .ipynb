{
  "cells": [
    {
      "cell_type": "markdown",
      "source": [],
      "metadata": {
        "id": "2t1Ff4OnCSNn"
      }
    },
    {
      "cell_type": "code",
      "execution_count": 1,
      "metadata": {
        "id": "2P1KCELBl8Ff",
        "colab": {
          "base_uri": "https://localhost:8080/"
        },
        "outputId": "42352582-8bbd-4ad5-f2ae-a49533f039cb"
      },
      "outputs": [
        {
          "output_type": "stream",
          "name": "stdout",
          "text": [
            "/content/drive/MyDrive/demoproject\n",
            "Collecting flask-ngrok\n",
            "  Downloading flask_ngrok-0.0.25-py3-none-any.whl.metadata (1.8 kB)\n",
            "Requirement already satisfied: Flask>=0.8 in /usr/local/lib/python3.10/dist-packages (from flask-ngrok) (2.2.5)\n",
            "Requirement already satisfied: requests in /usr/local/lib/python3.10/dist-packages (from flask-ngrok) (2.32.3)\n",
            "Requirement already satisfied: Werkzeug>=2.2.2 in /usr/local/lib/python3.10/dist-packages (from Flask>=0.8->flask-ngrok) (3.0.3)\n",
            "Requirement already satisfied: Jinja2>=3.0 in /usr/local/lib/python3.10/dist-packages (from Flask>=0.8->flask-ngrok) (3.1.4)\n",
            "Requirement already satisfied: itsdangerous>=2.0 in /usr/local/lib/python3.10/dist-packages (from Flask>=0.8->flask-ngrok) (2.2.0)\n",
            "Requirement already satisfied: click>=8.0 in /usr/local/lib/python3.10/dist-packages (from Flask>=0.8->flask-ngrok) (8.1.7)\n",
            "Requirement already satisfied: charset-normalizer<4,>=2 in /usr/local/lib/python3.10/dist-packages (from requests->flask-ngrok) (3.3.2)\n",
            "Requirement already satisfied: idna<4,>=2.5 in /usr/local/lib/python3.10/dist-packages (from requests->flask-ngrok) (3.7)\n",
            "Requirement already satisfied: urllib3<3,>=1.21.1 in /usr/local/lib/python3.10/dist-packages (from requests->flask-ngrok) (2.0.7)\n",
            "Requirement already satisfied: certifi>=2017.4.17 in /usr/local/lib/python3.10/dist-packages (from requests->flask-ngrok) (2024.7.4)\n",
            "Requirement already satisfied: MarkupSafe>=2.0 in /usr/local/lib/python3.10/dist-packages (from Jinja2>=3.0->Flask>=0.8->flask-ngrok) (2.1.5)\n",
            "Downloading flask_ngrok-0.0.25-py3-none-any.whl (3.1 kB)\n",
            "Installing collected packages: flask-ngrok\n",
            "Successfully installed flask-ngrok-0.0.25\n",
            "Collecting pyngrok\n",
            "  Downloading pyngrok-7.2.0-py3-none-any.whl.metadata (7.4 kB)\n",
            "Requirement already satisfied: PyYAML>=5.1 in /usr/local/lib/python3.10/dist-packages (from pyngrok) (6.0.2)\n",
            "Downloading pyngrok-7.2.0-py3-none-any.whl (22 kB)\n",
            "Installing collected packages: pyngrok\n",
            "Successfully installed pyngrok-7.2.0\n"
          ]
        }
      ],
      "source": [
        "%cd /content/drive/MyDrive/demoproject\n",
        "\n",
        "!pip install flask-ngrok\n",
        "!pip install pyngrok"
      ]
    },
    {
      "cell_type": "code",
      "execution_count": 2,
      "metadata": {
        "id": "ie93V-8grphP"
      },
      "outputs": [],
      "source": [
        "from flask import Flask, request, jsonify, render_template\n",
        "# from flask_ngrok import run_with_ngrok\n",
        "from pyngrok import ngrok\n",
        "\n",
        "import numpy as np\n",
        "from PIL import Image\n",
        "from geopy.distance import geodesic\n",
        "from flask import Flask, render_template, request\n",
        "import requests\n",
        "import pandas as pd\n",
        "from io import StringIO"
      ]
    },
    {
      "cell_type": "code",
      "source": [
        "# ngrok.set_auth_token('2kaY24mBv5I7M7EKd6H2FLYQZ8l_4eyeThuMAvEwiPaaT1TFW')\n",
        "# public_url=ngrok.connect(5000).public_url\n",
        "# public_url"
      ],
      "metadata": {
        "id": "Sqymo369-AB8"
      },
      "execution_count": null,
      "outputs": []
    },
    {
      "cell_type": "code",
      "source": [
        "port_no=5000\n",
        "app = Flask(__name__)\n",
        "ngrok.set_auth_token('2kaY24mBv5I7M7EKd6H2FLYQZ8l_4eyeThuMAvEwiPaaT1TFW')\n",
        "public_url=ngrok.connect(port_no).public_url\n",
        "\n",
        "API_KEY = '579b464db66ec23bdd000001bde41887288942c463ea7a7c3fa3d66a'\n",
        "API_URL = f'https://api.data.gov.in/resource/9ef84268-d588-465a-a308-a864a43d0070?api-key={API_KEY}&format=csv&limit=100000'\n",
        "\n",
        "\n",
        "\n",
        "@app.route('/')\n",
        "def index():\n",
        "    return render_template('index.html')\n",
        "\n",
        "\n",
        "\n",
        "def fetch_market_data():\n",
        "    response = requests.get(API_URL)\n",
        "    data = pd.read_csv(StringIO(response.text))\n",
        "    return data\n",
        "\n",
        "def filter_data(data, state=None, district=None, commodity=None, variety=None, grade=None, price_order=None):\n",
        "    if state:\n",
        "        data = data[data['State'] == state]\n",
        "    if district:\n",
        "        data = data[data['District'] == district]\n",
        "    if commodity:\n",
        "        data = data[data['Commodity'] == commodity]\n",
        "    if variety:\n",
        "        data = data[data['Variety'] == variety]\n",
        "    if grade:\n",
        "        data = data[data['Grade'] == grade]\n",
        "    if price_order:\n",
        "        data = data.sort_values(by='Min_x0020_Price', ascending=(price_order == 'low_to_high'))\n",
        "\n",
        "    return data\n",
        "\n",
        "\n",
        "@app.route('/market-data', methods=['GET', 'POST'])\n",
        "def market_data():\n",
        "    data = fetch_market_data()\n",
        "    filtered_data = data.copy()\n",
        "\n",
        "    if request.method == 'POST':\n",
        "        state = request.form.get('state')\n",
        "        district = request.form.get('district')\n",
        "        commodity = request.form.get('commodity')\n",
        "        variety = request.form.get('variety')\n",
        "        grade = request.form.get('grade')\n",
        "        price_order = request.form.get('price_order')\n",
        "\n",
        "        filtered_data = filter_data(data, state, district, commodity, variety, grade, price_order)\n",
        "\n",
        "\n",
        "    page = int(request.args.get('page', 1))\n",
        "    per_page = 10\n",
        "    total = len(filtered_data)\n",
        "    start = (page - 1) * per_page\n",
        "    end = start + per_page\n",
        "    paginated_data = filtered_data[start:end]\n",
        "\n",
        "    data_dict = paginated_data.to_dict('records')\n",
        "\n",
        "    states = data['State'].unique()\n",
        "    districts = data['District'].unique()\n",
        "    commodities = data['Commodity'].unique()\n",
        "    varieties = data['Variety'].unique()\n",
        "    grades = data['Grade'].unique()\n",
        "\n",
        "    return render_template('market_data.html', data=data_dict, states=states,\n",
        "                           districts=districts, commodities=commodities, varieties=varieties,\n",
        "                           grades=grades, page=page, per_page=per_page, start=start, end=end, total=total)\n",
        "\n",
        "print(f\"global link {public_url}\")\n",
        "app.run(port=port_no)"
      ],
      "metadata": {
        "colab": {
          "base_uri": "https://localhost:8080/"
        },
        "id": "NcojYVyV4vrV",
        "outputId": "0cdc5fdc-8032-485e-c3ed-e4ad94b2aa33"
      },
      "execution_count": null,
      "outputs": [
        {
          "output_type": "stream",
          "name": "stdout",
          "text": [
            "global link https://c7a5-35-196-249-149.ngrok-free.app\n",
            " * Serving Flask app '__main__'\n",
            " * Debug mode: off\n"
          ]
        },
        {
          "output_type": "stream",
          "name": "stderr",
          "text": [
            "INFO:werkzeug:\u001b[31m\u001b[1mWARNING: This is a development server. Do not use it in a production deployment. Use a production WSGI server instead.\u001b[0m\n",
            " * Running on http://127.0.0.1:5000\n",
            "INFO:werkzeug:\u001b[33mPress CTRL+C to quit\u001b[0m\n",
            "INFO:werkzeug:127.0.0.1 - - [15/Aug/2024 09:27:25] \"GET / HTTP/1.1\" 200 -\n",
            "INFO:werkzeug:127.0.0.1 - - [15/Aug/2024 09:27:25] \"\u001b[33mGET /favicon.ico HTTP/1.1\u001b[0m\" 404 -\n",
            "INFO:werkzeug:127.0.0.1 - - [15/Aug/2024 09:27:33] \"GET /market-data HTTP/1.1\" 200 -\n",
            "INFO:werkzeug:127.0.0.1 - - [15/Aug/2024 09:28:13] \"POST /market-data HTTP/1.1\" 200 -\n",
            "INFO:werkzeug:127.0.0.1 - - [15/Aug/2024 09:29:52] \"POST /market-data HTTP/1.1\" 200 -\n",
            "INFO:werkzeug:127.0.0.1 - - [15/Aug/2024 09:30:28] \"POST /market-data HTTP/1.1\" 200 -\n"
          ]
        }
      ]
    },
    {
      "cell_type": "markdown",
      "source": [],
      "metadata": {
        "id": "BOQKqKwBH6Iu"
      }
    }
  ],
  "metadata": {
    "colab": {
      "provenance": []
    },
    "kernelspec": {
      "display_name": "Python 3",
      "name": "python3"
    },
    "language_info": {
      "name": "python"
    }
  },
  "nbformat": 4,
  "nbformat_minor": 0
}